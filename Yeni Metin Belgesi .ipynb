# To add a new cell, type '# %%'
# To add a new markdown cell, type '{0} [markdown]'
# %%



# %%
from bs4 import BeautifulSoup
import requests


# %%
r = requests.get("https://www.facebook.com/groups/1797464497200766")
soup = BeautifulSoup(r.content, "lxml")


# %%
r


# %%
alımsatımlar = soup.find_all("li",attrs={"class":"zg-item-immersion"})


# %%
header = {"Kendi_User_Agent'ınızı Verin"}


# %%
for alımsatım in alımsatımlar:
   alımsatım_linkleri = alımsatım.find_all("div",attrs={"class":"aok-relative"})
    for i in ürün_linkleri:
        link = i.find("span",attrs={"class":"zg-item"})
        link_devam = link.a.get("href")
        link_basi = "https://www.facebook.com.tr"
        link_tamami = link_basi+link_devam
        
        detay = requests.get(link_tamami, headers = header)
        detay_soup = BeautifulSoup(detay.content, "lxml")
        
        ürünözellikleri = detay_soup.find_all("div",attrs={"class":"col1"})
        
        for ürün in ürünözellikleri:
            detaylar = ürün.find_all("tr")
            for i in detaylar:
                try:               
                    etiket = i.find("td",attrs={"class":"label"}).text
                    deger = i.find("td",attrs={"class":"value"}).text

                    print(etiket," = ",deger)
                except:
                    print("---------")


# %%



